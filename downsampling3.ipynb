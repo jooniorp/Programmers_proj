{
 "cells": [
  {
   "cell_type": "code",
   "execution_count": 2,
   "metadata": {},
   "outputs": [],
   "source": [
    "import pandas as pd"
   ]
  },
  {
   "cell_type": "code",
   "execution_count": 3,
   "metadata": {},
   "outputs": [],
   "source": [
    "df=pd.read_csv('data_set\\Tony_data\\MBTImerged.tsv',encoding='UTF-8', sep='\\t')"
   ]
  },
  {
   "cell_type": "code",
   "execution_count": 4,
   "metadata": {},
   "outputs": [
    {
     "data": {
      "text/html": [
       "<div>\n",
       "<style scoped>\n",
       "    .dataframe tbody tr th:only-of-type {\n",
       "        vertical-align: middle;\n",
       "    }\n",
       "\n",
       "    .dataframe tbody tr th {\n",
       "        vertical-align: top;\n",
       "    }\n",
       "\n",
       "    .dataframe thead th {\n",
       "        text-align: right;\n",
       "    }\n",
       "</style>\n",
       "<table border=\"1\" class=\"dataframe\">\n",
       "  <thead>\n",
       "    <tr style=\"text-align: right;\">\n",
       "      <th></th>\n",
       "      <th>text</th>\n",
       "      <th>mbti</th>\n",
       "      <th>ie</th>\n",
       "      <th>ns</th>\n",
       "      <th>ft</th>\n",
       "      <th>pj</th>\n",
       "    </tr>\n",
       "  </thead>\n",
       "  <tbody>\n",
       "    <tr>\n",
       "      <th>0</th>\n",
       "      <td>안녕하세요 어서오세요</td>\n",
       "      <td>entp</td>\n",
       "      <td>e</td>\n",
       "      <td>n</td>\n",
       "      <td>t</td>\n",
       "      <td>p</td>\n",
       "    </tr>\n",
       "    <tr>\n",
       "      <th>1</th>\n",
       "      <td>/환영</td>\n",
       "      <td>entp</td>\n",
       "      <td>e</td>\n",
       "      <td>n</td>\n",
       "      <td>t</td>\n",
       "      <td>p</td>\n",
       "    </tr>\n",
       "    <tr>\n",
       "      <th>2</th>\n",
       "      <td>공지 읽어주세용</td>\n",
       "      <td>entp</td>\n",
       "      <td>e</td>\n",
       "      <td>n</td>\n",
       "      <td>t</td>\n",
       "      <td>p</td>\n",
       "    </tr>\n",
       "    <tr>\n",
       "      <th>3</th>\n",
       "      <td>반갑습니다. 94년생 인팁입니다 --------------- 2024년 1월 11일...</td>\n",
       "      <td>intp</td>\n",
       "      <td>i</td>\n",
       "      <td>n</td>\n",
       "      <td>t</td>\n",
       "      <td>p</td>\n",
       "    </tr>\n",
       "    <tr>\n",
       "      <th>4</th>\n",
       "      <td>어서오세요</td>\n",
       "      <td>infj</td>\n",
       "      <td>i</td>\n",
       "      <td>n</td>\n",
       "      <td>f</td>\n",
       "      <td>j</td>\n",
       "    </tr>\n",
       "  </tbody>\n",
       "</table>\n",
       "</div>"
      ],
      "text/plain": [
       "                                                text  mbti ie ns ft pj\n",
       "0                                       안녕하세요 어서오세요   entp  e  n  t  p\n",
       "1                                                /환영  entp  e  n  t  p\n",
       "2                                           공지 읽어주세용  entp  e  n  t  p\n",
       "3  반갑습니다. 94년생 인팁입니다 --------------- 2024년 1월 11일...  intp  i  n  t  p\n",
       "4                                              어서오세요  infj  i  n  f  j"
      ]
     },
     "execution_count": 4,
     "metadata": {},
     "output_type": "execute_result"
    }
   ],
   "source": [
    "df.head(5)"
   ]
  },
  {
   "cell_type": "code",
   "execution_count": 5,
   "metadata": {},
   "outputs": [
    {
     "name": "stdout",
     "output_type": "stream",
     "text": [
      "<class 'pandas.core.frame.DataFrame'>\n",
      "RangeIndex: 163204 entries, 0 to 163203\n",
      "Data columns (total 6 columns):\n",
      " #   Column  Non-Null Count   Dtype \n",
      "---  ------  --------------   ----- \n",
      " 0   text    163204 non-null  object\n",
      " 1   mbti    163204 non-null  object\n",
      " 2   ie      163204 non-null  object\n",
      " 3   ns      163204 non-null  object\n",
      " 4   ft      163204 non-null  object\n",
      " 5   pj      163204 non-null  object\n",
      "dtypes: object(6)\n",
      "memory usage: 7.5+ MB\n"
     ]
    }
   ],
   "source": [
    "df.info()"
   ]
  },
  {
   "cell_type": "code",
   "execution_count": 33,
   "metadata": {},
   "outputs": [
    {
     "data": {
      "text/plain": [
       "text\n",
       "ㅋㅋㅋㅋㅋㅋ                                                                                                                                                                                                               205\n",
       "?                                                                                                                                                                                                                    188\n",
       "네                                                                                                                                                                                                                    179\n",
       "ㅋㅋㅋ                                                                                                                                                                                                                  174\n",
       "ㅋㅋㅋㅋㅋㅋㅋ                                                                                                                                                                                                              172\n",
       "                                                                                                                                                                                                                    ... \n",
       "또 마음속에서 교만인지 괜스레 마음속에서 난 뭘 해도 잘할 거라는 생각이 드니 선택하기 더 어려워지고 정맬루 복잡 복잡한 나날들을 보내고 있습니다.  지금 진로 정하는 가운데 갑자기 다른 enfp분들은 어떤 직업을 가지고 계신지 너무 궁금해졌습니다. 괜찮으시다면 직업과, 그 직업이 잘 맞는 것 같은 지 말씀해 주시면 너무너무 감사할 것 같아요 ㅠㅠ!!!!!!!!!!!!!       1\n",
       "워낙 사람이면 꼬리 흔들고 좋아하는 댕댕이라서 잘해주고 치대고 아쉬워하는 게 내가 좋아하는 지인 중 하나고 편해서 그런 거라고 생각은 하면서도 한편으로는 나 좋아하나?  기대 심리를 0퍼로 유지하기가 너무 힘들어 이성적으론 얜 아니야라고 생각하면서도 자꾸 치대니까 고맙기도 하고 왜 나한테 그럴까 생각하게 됨ㅋ/ㅋ                                        1\n",
       "enfp와 entp가 큰 차이점이 있나요? 도 통 왜 바뀌었는지 정확한 이유를 잘 모르겠네요..  흠..                                                                                                                                                             1\n",
       "어디까지나 너의 생각이고 그게 정답은 아니야라는 의미를 담은 말을 들으신다면 어떤 느낌이 실 것 같나요?                                                                                                                                                             1\n",
       "사랑한단 말을 쉽게 하는 편인가요?  표현을 잘 하는 편이신가요?                                                                                                                                                                                   1\n",
       "Name: count, Length: 155172, dtype: int64"
      ]
     },
     "execution_count": 33,
     "metadata": {},
     "output_type": "execute_result"
    }
   ],
   "source": [
    "df['text'].value_counts()"
   ]
  },
  {
   "cell_type": "code",
   "execution_count": 73,
   "metadata": {},
   "outputs": [],
   "source": [
    "df1=df"
   ]
  },
  {
   "cell_type": "code",
   "execution_count": 74,
   "metadata": {},
   "outputs": [
    {
     "name": "stdout",
     "output_type": "stream",
     "text": [
      "<class 'pandas.core.frame.DataFrame'>\n",
      "RangeIndex: 163204 entries, 0 to 163203\n",
      "Data columns (total 6 columns):\n",
      " #   Column  Non-Null Count   Dtype \n",
      "---  ------  --------------   ----- \n",
      " 0   text    163204 non-null  object\n",
      " 1   mbti    163204 non-null  object\n",
      " 2   ie      163204 non-null  object\n",
      " 3   ns      163204 non-null  object\n",
      " 4   ft      163204 non-null  object\n",
      " 5   pj      163204 non-null  object\n",
      "dtypes: object(6)\n",
      "memory usage: 7.5+ MB\n"
     ]
    }
   ],
   "source": [
    "df1.info()"
   ]
  },
  {
   "cell_type": "code",
   "execution_count": null,
   "metadata": {},
   "outputs": [],
   "source": []
  },
  {
   "cell_type": "code",
   "execution_count": null,
   "metadata": {},
   "outputs": [],
   "source": []
  },
  {
   "cell_type": "code",
   "execution_count": null,
   "metadata": {},
   "outputs": [],
   "source": []
  },
  {
   "cell_type": "code",
   "execution_count": 7,
   "metadata": {},
   "outputs": [
    {
     "data": {
      "text/plain": [
       "text\n",
       "9      3508\n",
       "11     3439\n",
       "8      3430\n",
       "10     3418\n",
       "6      3356\n",
       "       ... \n",
       "420       1\n",
       "571       1\n",
       "426       1\n",
       "413       1\n",
       "493       1\n",
       "Name: count, Length: 476, dtype: int64"
      ]
     },
     "execution_count": 7,
     "metadata": {},
     "output_type": "execute_result"
    }
   ],
   "source": [
    "df['text'].str.len().value_counts()"
   ]
  },
  {
   "cell_type": "code",
   "execution_count": 8,
   "metadata": {},
   "outputs": [],
   "source": [
    "df1=df['mbti']==\"enfj\"\n",
    "df2=df['mbti']==\"enfp\"\n",
    "df3=df['mbti']==\"entj\"\n",
    "df4=df['mbti']==\"entp\"\n",
    "df5=df['mbti']==\"esfj\"\n",
    "df6=df['mbti']==\"esfp\"\n",
    "df7=df['mbti']==\"estj\"\n",
    "df8=df['mbti']==\"estp\"\n",
    "df9=df['mbti']==\"infj\"\n",
    "df10=df['mbti']==\"infp\"\n",
    "df11=df['mbti']==\"intj\"\n",
    "df12=df['mbti']==\"intp\"\n",
    "df13=df['mbti']==\"isfj\"\n",
    "df14=df['mbti']==\"isfp\"\n",
    "df15=df['mbti']==\"istj\"\n",
    "df16=df['mbti']==\"istp\""
   ]
  },
  {
   "cell_type": "code",
   "execution_count": 9,
   "metadata": {},
   "outputs": [],
   "source": [
    "df_enfj=df[df1]\n",
    "df_enfp=df[df2]\n",
    "df_entj=df[df3]\n",
    "df_entp=df[df4]\n",
    "df_esfj=df[df5]\n",
    "df_esfp=df[df6]\n",
    "df_estj=df[df7]\n",
    "df_estp=df[df8]\n",
    "df_infj=df[df9]\n",
    "df_infp=df[df10]\n",
    "df_intj=df[df11]\n",
    "df_intp=df[df12]\n",
    "df_isfj=df[df13]\n",
    "df_isfp=df[df14]\n",
    "df_istj=df[df15]\n",
    "df_istp=df[df16]"
   ]
  },
  {
   "cell_type": "code",
   "execution_count": 10,
   "metadata": {},
   "outputs": [
    {
     "data": {
      "text/html": [
       "<div>\n",
       "<style scoped>\n",
       "    .dataframe tbody tr th:only-of-type {\n",
       "        vertical-align: middle;\n",
       "    }\n",
       "\n",
       "    .dataframe tbody tr th {\n",
       "        vertical-align: top;\n",
       "    }\n",
       "\n",
       "    .dataframe thead th {\n",
       "        text-align: right;\n",
       "    }\n",
       "</style>\n",
       "<table border=\"1\" class=\"dataframe\">\n",
       "  <thead>\n",
       "    <tr style=\"text-align: right;\">\n",
       "      <th></th>\n",
       "      <th>text</th>\n",
       "      <th>mbti</th>\n",
       "      <th>ie</th>\n",
       "      <th>ns</th>\n",
       "      <th>ft</th>\n",
       "      <th>pj</th>\n",
       "    </tr>\n",
       "  </thead>\n",
       "  <tbody>\n",
       "    <tr>\n",
       "      <th>27</th>\n",
       "      <td>오</td>\n",
       "      <td>enfj</td>\n",
       "      <td>e</td>\n",
       "      <td>n</td>\n",
       "      <td>f</td>\n",
       "      <td>j</td>\n",
       "    </tr>\n",
       "    <tr>\n",
       "      <th>28</th>\n",
       "      <td>잘보세욯</td>\n",
       "      <td>enfj</td>\n",
       "      <td>e</td>\n",
       "      <td>n</td>\n",
       "      <td>f</td>\n",
       "      <td>j</td>\n",
       "    </tr>\n",
       "    <tr>\n",
       "      <th>39</th>\n",
       "      <td>오오</td>\n",
       "      <td>enfj</td>\n",
       "      <td>e</td>\n",
       "      <td>n</td>\n",
       "      <td>f</td>\n",
       "      <td>j</td>\n",
       "    </tr>\n",
       "    <tr>\n",
       "      <th>40</th>\n",
       "      <td>근데 진짜 화방에서 일할거 같애요ㄹ</td>\n",
       "      <td>enfj</td>\n",
       "      <td>e</td>\n",
       "      <td>n</td>\n",
       "      <td>f</td>\n",
       "      <td>j</td>\n",
       "    </tr>\n",
       "    <tr>\n",
       "      <th>41</th>\n",
       "      <td>착장이</td>\n",
       "      <td>enfj</td>\n",
       "      <td>e</td>\n",
       "      <td>n</td>\n",
       "      <td>f</td>\n",
       "      <td>j</td>\n",
       "    </tr>\n",
       "  </tbody>\n",
       "</table>\n",
       "</div>"
      ],
      "text/plain": [
       "                   text  mbti ie ns ft pj\n",
       "27                    오  enfj  e  n  f  j\n",
       "28                 잘보세욯  enfj  e  n  f  j\n",
       "39                   오오  enfj  e  n  f  j\n",
       "40  근데 진짜 화방에서 일할거 같애요ㄹ  enfj  e  n  f  j\n",
       "41                  착장이  enfj  e  n  f  j"
      ]
     },
     "execution_count": 10,
     "metadata": {},
     "output_type": "execute_result"
    }
   ],
   "source": [
    "df_enfj.head(5)"
   ]
  },
  {
   "cell_type": "code",
   "execution_count": 20,
   "metadata": {},
   "outputs": [
    {
     "data": {
      "text/plain": [
       "(6138, 12667, 9105, 15622, 2586, 4298, 5846, 6918)"
      ]
     },
     "execution_count": 20,
     "metadata": {},
     "output_type": "execute_result"
    }
   ],
   "source": [
    "df_enfj['text'].count(),df_enfp['text'].count(),df_entj['text'].count(),df_entp['text'].count(),df_esfj['text'].count(),df_esfp['text'].count(),df_estj['text'].count(),df_estp['text'].count()"
   ]
  },
  {
   "cell_type": "code",
   "execution_count": 19,
   "metadata": {},
   "outputs": [
    {
     "data": {
      "text/plain": [
       "(12804, 17927, 14914, 15390, 7725, 10821, 7784, 12659)"
      ]
     },
     "execution_count": 19,
     "metadata": {},
     "output_type": "execute_result"
    }
   ],
   "source": [
    "df_infj['text'].count(),df_infp['text'].count(),df_intj['text'].count(),df_intp['text'].count(),df_isfj['text'].count(),df_isfp['text'].count(),df_istj['text'].count(),df_istp['text'].count()"
   ]
  },
  {
   "cell_type": "code",
   "execution_count": 45,
   "metadata": {},
   "outputs": [],
   "source": [
    "df_i=df['ie']=='i'\n",
    "df_e=df['ie']=='e'\n",
    "df_n=df['ns']=='n'\n",
    "df_s=df['ns']=='s'\n",
    "df_f=df['ft']=='f'\n",
    "df_t=df['ft']=='t'\n",
    "df_p=df['pj']=='p'\n",
    "df_j=df['pj']=='j'"
   ]
  },
  {
   "cell_type": "code",
   "execution_count": 46,
   "metadata": {},
   "outputs": [],
   "source": [
    "df_i=df[df_i]\n",
    "df_e=df[df_e]\n",
    "df_n=df[df_n]\n",
    "df_s=df[df_s]\n",
    "df_f=df[df_f]\n",
    "df_t=df[df_t]\n",
    "df_p=df[df_p]\n",
    "df_j=df[df_j]"
   ]
  },
  {
   "cell_type": "code",
   "execution_count": 31,
   "metadata": {},
   "outputs": [
    {
     "data": {
      "text/plain": [
       "(100024, 63180, 104567, 58637)"
      ]
     },
     "execution_count": 31,
     "metadata": {},
     "output_type": "execute_result"
    }
   ],
   "source": [
    "df_i['text'].count(),df_e['text'].count(),df_n['text'].count(),df_s['text'].count()"
   ]
  },
  {
   "cell_type": "code",
   "execution_count": 32,
   "metadata": {},
   "outputs": [
    {
     "data": {
      "text/plain": [
       "(74966, 88238, 96302, 66902)"
      ]
     },
     "execution_count": 32,
     "metadata": {},
     "output_type": "execute_result"
    }
   ],
   "source": [
    "df_f['text'].count(),df_t['text'].count(),df_p['text'].count(),df_j['text'].count()"
   ]
  },
  {
   "cell_type": "code",
   "execution_count": 40,
   "metadata": {},
   "outputs": [],
   "source": [
    "df_1=df[df['text'].str.len()>10]\n",
    "df_1=df_1[df_1['text'].str.len()<400]"
   ]
  },
  {
   "cell_type": "code",
   "execution_count": 41,
   "metadata": {},
   "outputs": [
    {
     "data": {
      "text/plain": [
       "133072"
      ]
     },
     "execution_count": 41,
     "metadata": {},
     "output_type": "execute_result"
    }
   ],
   "source": [
    "df_1['text'].count()"
   ]
  },
  {
   "cell_type": "code",
   "execution_count": 52,
   "metadata": {},
   "outputs": [],
   "source": [
    "df_11=df_1['mbti']==\"enfj\"\n",
    "df_12=df_1['mbti']==\"enfp\"\n",
    "df_13=df_1['mbti']==\"entj\"\n",
    "df_14=df_1['mbti']==\"entp\"\n",
    "df_15=df_1['mbti']==\"esfj\"\n",
    "df_16=df_1['mbti']==\"esfp\"\n",
    "df_17=df_1['mbti']==\"estj\"\n",
    "df_18=df_1['mbti']==\"estp\"\n",
    "df_19=df_1['mbti']==\"infj\"\n",
    "df_110=df_1['mbti']==\"infp\"\n",
    "df_111=df_1['mbti']==\"intj\"\n",
    "df_112=df_1['mbti']==\"intp\"\n",
    "df_113=df_1['mbti']==\"isfj\"\n",
    "df_114=df_1['mbti']==\"isfp\"\n",
    "df_115=df_1['mbti']==\"istj\"\n",
    "df_116=df_1['mbti']==\"istp\""
   ]
  },
  {
   "cell_type": "code",
   "execution_count": 53,
   "metadata": {},
   "outputs": [],
   "source": [
    "df_1enfj=df_1[df_11]\n",
    "df_1enfp=df_1[df_12]\n",
    "df_1entj=df_1[df_13]\n",
    "df_1entp=df_1[df_14]\n",
    "df_1esfj=df_1[df_15]\n",
    "df_1esfp=df_1[df_16]\n",
    "df_1estj=df_1[df_17]\n",
    "df_1estp=df_1[df_18]\n",
    "df_1infj=df_1[df_19]\n",
    "df_1infp=df_1[df_110]\n",
    "df_1intj=df_1[df_111]\n",
    "df_1intp=df_1[df_112]\n",
    "df_1isfj=df_1[df_113]\n",
    "df_1isfp=df_1[df_114]\n",
    "df_1istj=df_1[df_115]\n",
    "df_1istp=df_1[df_116]"
   ]
  },
  {
   "cell_type": "code",
   "execution_count": 54,
   "metadata": {},
   "outputs": [
    {
     "data": {
      "text/plain": [
       "(5329, 10186, 7137, 13421)"
      ]
     },
     "execution_count": 54,
     "metadata": {},
     "output_type": "execute_result"
    }
   ],
   "source": [
    "df_1enfj['text'].count(),df_1enfp['text'].count(),df_1entj['text'].count(),df_1entp['text'].count()"
   ]
  },
  {
   "cell_type": "code",
   "execution_count": 55,
   "metadata": {},
   "outputs": [
    {
     "data": {
      "text/plain": [
       "(2331, 3068, 3808, 4448)"
      ]
     },
     "execution_count": 55,
     "metadata": {},
     "output_type": "execute_result"
    }
   ],
   "source": [
    "df_1esfj['text'].count(),df_1esfp['text'].count(),df_1estj['text'].count(),df_1estp['text'].count()"
   ]
  },
  {
   "cell_type": "code",
   "execution_count": 56,
   "metadata": {},
   "outputs": [
    {
     "data": {
      "text/plain": [
       "(11419, 16843, 12630, 12211)"
      ]
     },
     "execution_count": 56,
     "metadata": {},
     "output_type": "execute_result"
    }
   ],
   "source": [
    "df_1infj['text'].count(),df_1infp['text'].count(),df_1intj['text'].count(),df_1intp['text'].count()"
   ]
  },
  {
   "cell_type": "code",
   "execution_count": 57,
   "metadata": {},
   "outputs": [
    {
     "data": {
      "text/plain": [
       "(6538, 8604, 5804, 9295)"
      ]
     },
     "execution_count": 57,
     "metadata": {},
     "output_type": "execute_result"
    }
   ],
   "source": [
    "df_1isfj['text'].count(),df_1isfp['text'].count(),df_1istj['text'].count(),df_1istp['text'].count()"
   ]
  },
  {
   "cell_type": "code",
   "execution_count": 44,
   "metadata": {},
   "outputs": [],
   "source": [
    "df_1i=df_1['ie']=='i'\n",
    "df_1e=df_1['ie']=='e'\n",
    "df_1n=df_1['ns']=='n'\n",
    "df_1s=df_1['ns']=='s'\n",
    "df_1f=df_1['ft']=='f'\n",
    "df_1t=df_1['ft']=='t'\n",
    "df_1p=df_1['pj']=='p'\n",
    "df_1j=df_1['pj']=='j'"
   ]
  },
  {
   "cell_type": "code",
   "execution_count": 49,
   "metadata": {},
   "outputs": [],
   "source": [
    "df_1i=df_1[df_1i]\n",
    "df_1e=df_1[df_1e]\n",
    "df_1n=df_1[df_1n]\n",
    "df_1s=df_1[df_1s]\n",
    "df_1f=df_1[df_1f]\n",
    "df_1t=df_1[df_1t]\n",
    "df_1p=df_1[df_1p]\n",
    "df_1j=df_1[df_1j]"
   ]
  },
  {
   "cell_type": "code",
   "execution_count": 50,
   "metadata": {},
   "outputs": [
    {
     "data": {
      "text/plain": [
       "(83344, 49728, 89176, 43896)"
      ]
     },
     "execution_count": 50,
     "metadata": {},
     "output_type": "execute_result"
    }
   ],
   "source": [
    "df_1i['text'].count(),df_1e['text'].count(),df_1n['text'].count(),df_1s['text'].count()"
   ]
  },
  {
   "cell_type": "code",
   "execution_count": 51,
   "metadata": {},
   "outputs": [
    {
     "data": {
      "text/plain": [
       "(64318, 68754, 78076, 54996)"
      ]
     },
     "execution_count": 51,
     "metadata": {},
     "output_type": "execute_result"
    }
   ],
   "source": [
    "df_1f['text'].count(),df_1t['text'].count(),df_1p['text'].count(),df_1j['text'].count()"
   ]
  },
  {
   "cell_type": "code",
   "execution_count": 58,
   "metadata": {},
   "outputs": [],
   "source": [
    "df_d=df[~df['text'].str.contains('enfj|enfp|entj|entp|esfj|esfp|estj|estp|infj|infp|intj|intp|isfj|isfp|istj|istp')]"
   ]
  },
  {
   "cell_type": "code",
   "execution_count": 59,
   "metadata": {},
   "outputs": [
    {
     "data": {
      "text/plain": [
       "146575"
      ]
     },
     "execution_count": 59,
     "metadata": {},
     "output_type": "execute_result"
    }
   ],
   "source": [
    "df_d['text'].count()"
   ]
  },
  {
   "cell_type": "code",
   "execution_count": 72,
   "metadata": {},
   "outputs": [
    {
     "data": {
      "text/plain": [
       "text\n",
       "ㅋㅋㅋㅋㅋㅋ                                                                                                                                                                                                                                                  205\n",
       "?                                                                                                                                                                                                                                                       188\n",
       "네                                                                                                                                                                                                                                                       179\n",
       "ㅋㅋㅋ                                                                                                                                                                                                                                                     174\n",
       "ㅋㅋㅋㅋㅋㅋㅋ                                                                                                                                                                                                                                                 172\n",
       "                                                                                                                                                                                                                                                       ... \n",
       "마음 가는 대로 사려면 어느 정도 나머지는 잘 살아야 가능한 거라서 그만큼은 한다고 생각해요.  뭐, 그렇습니다. 여러분들은 비슷한 경험 있으신지 궁금했어요.                                                                                                                                                                  1\n",
       "좋아하는 사람(연인이든 친구든) 이 집 앞으로 찾아와서 같이 있자고 하면 어떨 것 같나요? (전 너무 로맨틱해서 좋을 거 같은데) ( 아..  근데 동굴에 들어가는 상황이 다 달라서 다를 수도 있겠다..)                                                                                                                                        1\n",
       "국민가요?  우왕 우왕 우황청심환 자가 진단 안 하면 키 자가 진단(작아진다) 공사한 당을 줄이면?  공산당 ㅋㅋ포항항??(???*)ㅋㅋ포항항항포핳핳항???포항항??(???*)ㅋㅋ포항항항포항항??(???*)????포항항?포항항??(???*)ㅋㅋ포항항항포핳핳항???포항항??(???*)ㅋㅋ포항항항포항항??(???*)????포항항?포항항??(???*)ㅋㅋ포항항항포핳핳항???포항항??(???*)ㅋㅋ포항항항포항항??(???*)????포항항?       1\n",
       "모르는 말이 있으면 삐대고 뻣뻣 대기보다, 사전이라도 최소한 찾아보려고 하고, 그러는 게 편한데 말이에요.  정말 편한 게 뭔지 모르나 봅니다. 답답했어요.                                                                                                                                                                   1\n",
       "사랑한단 말을 쉽게 하는 편인가요?  표현을 잘 하는 편이신가요?                                                                                                                                                                                                                      1\n",
       "Name: count, Length: 138664, dtype: int64"
      ]
     },
     "execution_count": 72,
     "metadata": {},
     "output_type": "execute_result"
    }
   ],
   "source": [
    "df_d['text'].value_counts()"
   ]
  },
  {
   "cell_type": "code",
   "execution_count": 67,
   "metadata": {},
   "outputs": [],
   "source": [
    "df_null=df_d['text']==' '"
   ]
  },
  {
   "cell_type": "code",
   "execution_count": 68,
   "metadata": {},
   "outputs": [],
   "source": [
    "df_null=df_d[df_null]"
   ]
  },
  {
   "cell_type": "code",
   "execution_count": 70,
   "metadata": {},
   "outputs": [
    {
     "data": {
      "text/plain": [
       "text  mbti  ie  ns  ft  pj\n",
       "      estp  e   s   t   p     3\n",
       "      intp  i   n   t   p     3\n",
       "      enfp  e   n   f   p     2\n",
       "      isfj  i   s   f   j     2\n",
       "      enfj  e   n   f   j     1\n",
       "      entj  e   n   t   j     1\n",
       "      entp  e   n   t   p     1\n",
       "      infj  i   n   f   j     1\n",
       "      infp  i   n   f   p     1\n",
       "      intj  i   n   t   j     1\n",
       "      isfp  i   s   f   p     1\n",
       "      istj  i   s   t   j     1\n",
       "      istp  i   s   t   p     1\n",
       "Name: count, dtype: int64"
      ]
     },
     "execution_count": 70,
     "metadata": {},
     "output_type": "execute_result"
    }
   ],
   "source": [
    "df_null.value_counts()"
   ]
  }
 ],
 "metadata": {
  "kernelspec": {
   "display_name": "Python 3",
   "language": "python",
   "name": "python3"
  },
  "language_info": {
   "codemirror_mode": {
    "name": "ipython",
    "version": 3
   },
   "file_extension": ".py",
   "mimetype": "text/x-python",
   "name": "python",
   "nbconvert_exporter": "python",
   "pygments_lexer": "ipython3",
   "version": "3.11.1"
  }
 },
 "nbformat": 4,
 "nbformat_minor": 2
}
